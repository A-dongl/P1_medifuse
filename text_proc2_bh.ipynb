{
 "cells": [
  {
   "cell_type": "code",
   "execution_count": 1,
   "id": "feeb65de",
   "metadata": {
    "ExecuteTime": {
     "end_time": "2022-10-25T00:01:55.295214Z",
     "start_time": "2022-10-25T00:01:54.589498Z"
    }
   },
   "outputs": [],
   "source": [
    "import pandas as pd"
   ]
  },
  {
   "cell_type": "code",
   "execution_count": 2,
   "id": "5992accc",
   "metadata": {
    "ExecuteTime": {
     "end_time": "2022-10-25T00:02:10.053439Z",
     "start_time": "2022-10-25T00:02:10.002085Z"
    }
   },
   "outputs": [],
   "source": [
    "dt = pd.read_csv(\"TrainSet _1st.csv\")"
   ]
  },
  {
   "cell_type": "code",
   "execution_count": 4,
   "id": "5328b23f",
   "metadata": {
    "ExecuteTime": {
     "end_time": "2022-10-25T00:07:19.937285Z",
     "start_time": "2022-10-25T00:07:19.929754Z"
    }
   },
   "outputs": [
    {
     "data": {
      "text/html": [
       "<div>\n",
       "<style scoped>\n",
       "    .dataframe tbody tr th:only-of-type {\n",
       "        vertical-align: middle;\n",
       "    }\n",
       "\n",
       "    .dataframe tbody tr th {\n",
       "        vertical-align: top;\n",
       "    }\n",
       "\n",
       "    .dataframe thead th {\n",
       "        text-align: right;\n",
       "    }\n",
       "</style>\n",
       "<table border=\"1\" class=\"dataframe\">\n",
       "  <thead>\n",
       "    <tr style=\"text-align: right;\">\n",
       "      <th></th>\n",
       "      <th>Find</th>\n",
       "      <th>Conc</th>\n",
       "      <th>Y</th>\n",
       "    </tr>\n",
       "  </thead>\n",
       "  <tbody>\n",
       "    <tr>\n",
       "      <th>0</th>\n",
       "      <td>Clinical information : 두부외상 후 후유증 평가\\r\\n\\r\\nAx...</td>\n",
       "      <td>1. Encephalomalacic change in both frontal lob...</td>\n",
       "      <td>0</td>\n",
       "    </tr>\n",
       "    <tr>\n",
       "      <th>1</th>\n",
       "      <td>Clinical information : lung cancer\\nAxial T1WI...</td>\n",
       "      <td>1. No change of focal enhancing lesion in left...</td>\n",
       "      <td>0</td>\n",
       "    </tr>\n",
       "    <tr>\n",
       "      <th>2</th>\n",
       "      <td>Clinical information : Multiple Sclerosis\\r\\n\\...</td>\n",
       "      <td>No significant interval change of abnormal hyp...</td>\n",
       "      <td>0</td>\n",
       "    </tr>\n",
       "    <tr>\n",
       "      <th>3</th>\n",
       "      <td>Clinical information : patient with DLBCL.\\r\\n...</td>\n",
       "      <td>1. Decreased extent of enhancing mass in the l...</td>\n",
       "      <td>0</td>\n",
       "    </tr>\n",
       "    <tr>\n",
       "      <th>4</th>\n",
       "      <td>Clinical information : Transient cerebral isch...</td>\n",
       "      <td>1. Acute infarctions at right BG, right F-P-T ...</td>\n",
       "      <td>1</td>\n",
       "    </tr>\n",
       "    <tr>\n",
       "      <th>...</th>\n",
       "      <td>...</td>\n",
       "      <td>...</td>\n",
       "      <td>...</td>\n",
       "    </tr>\n",
       "    <tr>\n",
       "      <th>6185</th>\n",
       "      <td>Clinical information : s/p Removal of vestibul...</td>\n",
       "      <td>No evidence of remnant mass or remarkable post...</td>\n",
       "      <td>0</td>\n",
       "    </tr>\n",
       "    <tr>\n",
       "      <th>6186</th>\n",
       "      <td>CI, headache of sudden onset (known UIA).\\r\\nA...</td>\n",
       "      <td>1. No evidence of acute infarctions.\\r\\n2. Enc...</td>\n",
       "      <td>0</td>\n",
       "    </tr>\n",
       "    <tr>\n",
       "      <th>6187</th>\n",
       "      <td>Clinical information : patient with DLBCL.\\n\\n...</td>\n",
       "      <td>1. Increased size of homogeneous enhancing mas...</td>\n",
       "      <td>0</td>\n",
       "    </tr>\n",
       "    <tr>\n",
       "      <th>6188</th>\n",
       "      <td>Clinical information : Lung cancer patient 임.\\...</td>\n",
       "      <td>No evidence of intracranial metastasis.\\n</td>\n",
       "      <td>0</td>\n",
       "    </tr>\n",
       "    <tr>\n",
       "      <th>6189</th>\n",
       "      <td>CI, cerebellar mass (metastatic carcinoma), a ...</td>\n",
       "      <td>1. Three new hemorrhagic metastases (Rt O 1.0 ...</td>\n",
       "      <td>0</td>\n",
       "    </tr>\n",
       "  </tbody>\n",
       "</table>\n",
       "<p>6190 rows × 3 columns</p>\n",
       "</div>"
      ],
      "text/plain": [
       "                                                   Find  \\\n",
       "0     Clinical information : 두부외상 후 후유증 평가\\r\\n\\r\\nAx...   \n",
       "1     Clinical information : lung cancer\\nAxial T1WI...   \n",
       "2     Clinical information : Multiple Sclerosis\\r\\n\\...   \n",
       "3     Clinical information : patient with DLBCL.\\r\\n...   \n",
       "4     Clinical information : Transient cerebral isch...   \n",
       "...                                                 ...   \n",
       "6185  Clinical information : s/p Removal of vestibul...   \n",
       "6186  CI, headache of sudden onset (known UIA).\\r\\nA...   \n",
       "6187  Clinical information : patient with DLBCL.\\n\\n...   \n",
       "6188  Clinical information : Lung cancer patient 임.\\...   \n",
       "6189  CI, cerebellar mass (metastatic carcinoma), a ...   \n",
       "\n",
       "                                                   Conc  Y  \n",
       "0     1. Encephalomalacic change in both frontal lob...  0  \n",
       "1     1. No change of focal enhancing lesion in left...  0  \n",
       "2     No significant interval change of abnormal hyp...  0  \n",
       "3     1. Decreased extent of enhancing mass in the l...  0  \n",
       "4     1. Acute infarctions at right BG, right F-P-T ...  1  \n",
       "...                                                 ... ..  \n",
       "6185  No evidence of remnant mass or remarkable post...  0  \n",
       "6186  1. No evidence of acute infarctions.\\r\\n2. Enc...  0  \n",
       "6187  1. Increased size of homogeneous enhancing mas...  0  \n",
       "6188          No evidence of intracranial metastasis.\\n  0  \n",
       "6189  1. Three new hemorrhagic metastases (Rt O 1.0 ...  0  \n",
       "\n",
       "[6190 rows x 3 columns]"
      ]
     },
     "execution_count": 4,
     "metadata": {},
     "output_type": "execute_result"
    }
   ],
   "source": [
    "dt.columns = ['Find', 'Conc', 'Y']\n",
    "dt"
   ]
  },
  {
   "cell_type": "code",
   "execution_count": 10,
   "id": "12c67b64",
   "metadata": {
    "ExecuteTime": {
     "end_time": "2022-10-25T00:11:03.309077Z",
     "start_time": "2022-10-25T00:11:03.291595Z"
    }
   },
   "outputs": [
    {
     "name": "stdout",
     "output_type": "stream",
     "text": [
      "<class 'pandas.core.frame.DataFrame'>\n",
      "RangeIndex: 6190 entries, 0 to 6189\n",
      "Data columns (total 4 columns):\n",
      " #   Column  Non-Null Count  Dtype \n",
      "---  ------  --------------  ----- \n",
      " 0   Find    6190 non-null   object\n",
      " 1   Conc    6190 non-null   object\n",
      " 2   Y       6190 non-null   int64 \n",
      " 3   sum     6190 non-null   object\n",
      "dtypes: int64(1), object(3)\n",
      "memory usage: 193.6+ KB\n"
     ]
    }
   ],
   "source": [
    "dt.replace(np.nan,'None', inplace=True)\n",
    "dt['sum'] = dt['Find'] + \" \" + dt['Conc']\n",
    "dt.info()"
   ]
  },
  {
   "cell_type": "code",
   "execution_count": 14,
   "id": "4d6e6bf5",
   "metadata": {
    "ExecuteTime": {
     "end_time": "2022-10-25T00:11:45.074121Z",
     "start_time": "2022-10-25T00:11:45.058462Z"
    }
   },
   "outputs": [
    {
     "data": {
      "text/plain": [
       "Int64Index([5649], dtype='int64')"
      ]
     },
     "execution_count": 14,
     "metadata": {},
     "output_type": "execute_result"
    }
   ],
   "source": [
    "# 삭제 필요\n",
    "dt_ch_text=dt[dt['sum'].str.contains('no specific interval change compare to the latest MR brain', na=False)]\n",
    "dt_ch_text[dt_ch_text['Y'] != 0].index"
   ]
  },
  {
   "cell_type": "code",
   "execution_count": 15,
   "id": "f05330a0",
   "metadata": {
    "ExecuteTime": {
     "end_time": "2022-10-25T00:11:54.174776Z",
     "start_time": "2022-10-25T00:11:54.161255Z"
    }
   },
   "outputs": [
    {
     "data": {
      "text/plain": [
       "Int64Index([230, 3104], dtype='int64')"
      ]
     },
     "execution_count": 15,
     "metadata": {},
     "output_type": "execute_result"
    }
   ],
   "source": [
    "# 삭제 필요\n",
    "dt_ch1_text=dt[dt['sum'].str.contains('No evidence of acute infarction', na=False)]\n",
    "dt_ch1_text[dt_ch1_text['Y'] != 0].index"
   ]
  },
  {
   "cell_type": "code",
   "execution_count": 16,
   "id": "cf6fc7b8",
   "metadata": {
    "ExecuteTime": {
     "end_time": "2022-10-25T00:12:27.771796Z",
     "start_time": "2022-10-25T00:12:27.759692Z"
    }
   },
   "outputs": [],
   "source": [
    "dt.drop([5649,230,3104], axis=0, inplace=True)"
   ]
  },
  {
   "cell_type": "code",
   "execution_count": 17,
   "id": "0f5cdcf9",
   "metadata": {
    "ExecuteTime": {
     "end_time": "2022-10-25T00:12:31.898291Z",
     "start_time": "2022-10-25T00:12:31.882395Z"
    }
   },
   "outputs": [
    {
     "name": "stdout",
     "output_type": "stream",
     "text": [
      "<class 'pandas.core.frame.DataFrame'>\n",
      "Int64Index: 6187 entries, 0 to 6189\n",
      "Data columns (total 4 columns):\n",
      " #   Column  Non-Null Count  Dtype \n",
      "---  ------  --------------  ----- \n",
      " 0   Find    6187 non-null   object\n",
      " 1   Conc    6187 non-null   object\n",
      " 2   Y       6187 non-null   int64 \n",
      " 3   sum     6187 non-null   object\n",
      "dtypes: int64(1), object(3)\n",
      "memory usage: 241.7+ KB\n"
     ]
    }
   ],
   "source": [
    "dt.info()"
   ]
  },
  {
   "cell_type": "code",
   "execution_count": 18,
   "id": "8a7bf19b",
   "metadata": {
    "ExecuteTime": {
     "end_time": "2022-10-25T00:13:32.482114Z",
     "start_time": "2022-10-25T00:13:32.411638Z"
    }
   },
   "outputs": [],
   "source": [
    "dt.to_csv('orgin_proc_1.csv')"
   ]
  },
  {
   "cell_type": "code",
   "execution_count": null,
   "id": "77cd9eff",
   "metadata": {},
   "outputs": [],
   "source": []
  }
 ],
 "metadata": {
  "kernelspec": {
   "display_name": "Python 3 (ipykernel)",
   "language": "python",
   "name": "python3"
  },
  "language_info": {
   "codemirror_mode": {
    "name": "ipython",
    "version": 3
   },
   "file_extension": ".py",
   "mimetype": "text/x-python",
   "name": "python",
   "nbconvert_exporter": "python",
   "pygments_lexer": "ipython3",
   "version": "3.9.13"
  },
  "toc": {
   "base_numbering": 1,
   "nav_menu": {},
   "number_sections": true,
   "sideBar": true,
   "skip_h1_title": false,
   "title_cell": "Table of Contents",
   "title_sidebar": "Contents",
   "toc_cell": false,
   "toc_position": {},
   "toc_section_display": true,
   "toc_window_display": false
  },
  "varInspector": {
   "cols": {
    "lenName": 16,
    "lenType": 16,
    "lenVar": 40
   },
   "kernels_config": {
    "python": {
     "delete_cmd_postfix": "",
     "delete_cmd_prefix": "del ",
     "library": "var_list.py",
     "varRefreshCmd": "print(var_dic_list())"
    },
    "r": {
     "delete_cmd_postfix": ") ",
     "delete_cmd_prefix": "rm(",
     "library": "var_list.r",
     "varRefreshCmd": "cat(var_dic_list()) "
    }
   },
   "types_to_exclude": [
    "module",
    "function",
    "builtin_function_or_method",
    "instance",
    "_Feature"
   ],
   "window_display": false
  }
 },
 "nbformat": 4,
 "nbformat_minor": 5
}
